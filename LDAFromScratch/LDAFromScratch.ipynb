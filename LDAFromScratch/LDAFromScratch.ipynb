{
 "cells": [
  {
   "cell_type": "code",
   "execution_count": 30,
   "metadata": {},
   "outputs": [],
   "source": [
    "import pandas\n",
    "import numpy\n",
    "from functools import partial\n",
    "from sklearn.model_selection import train_test_split"
   ]
  },
  {
   "cell_type": "code",
   "execution_count": 31,
   "metadata": {},
   "outputs": [
    {
     "data": {
      "text/plain": [
       "array(['Iris-setosa', 'Iris-versicolor', 'Iris-virginica'], dtype=object)"
      ]
     },
     "execution_count": 31,
     "metadata": {},
     "output_type": "execute_result"
    }
   ],
   "source": [
    "# In iris.data we have a sample of three different types of Iris flowers\n",
    "data = pandas.read_csv(\"iris.data\", header=None)\n",
    "data.head()\n",
    "data[4].unique()"
   ]
  },
  {
   "cell_type": "code",
   "execution_count": 42,
   "metadata": {},
   "outputs": [],
   "source": [
    "# I am going to perform LDA on a training sample of 20% of total observations from types versicolor and virginica\n",
    "versicolor_samples = data[data[4] == \"Iris-versicolor\"]\n",
    "virginica_samples = data[data[4] == \"Iris-virginica\"]\n",
    "\n",
    "versicolor_train, versicolor_test = train_test_split(versicolor_samples, test_size=0.8)\n",
    "virginica_train, virginica_test = train_test_split(virginica_samples, test_size=0.8)"
   ]
  },
  {
   "cell_type": "code",
   "execution_count": null,
   "metadata": {},
   "outputs": [],
   "source": [
    "\"\"\"\n",
    "The classes versicolor and virginica correspond to two distributions D_1 and D_2\n",
    "Lets assign the prior 1/2 to each distribution in our mixture\n",
    "    pi_1 = 1/2\n",
    "    pi_2 = 1/2\n",
    "    \n",
    "The distribution of our parametric finite mixture follows as \n",
    "    D ~ D_1/2 + D_2/2\n",
    "    \n",
    "Then for X ~ D_1/2 + D_2/2, the cdf for X is defined as \n",
    "   F_X(x) = P(X_1 <= x_1, X_2 <= x_2, ..., X_p <= x_p)\n",
    "   \n",
    "   F_X(x) = P(X_1 <= x_1, X_2 <= x_2, ..., X_p <= x_p | pi_1)P(pi_1) + \n",
    "            P(X_1 <= x_1, X_2 <= x_2, ..., X_p <= x_p | pi_2)P(pi_2)\n",
    "            \n",
    "   F_X(x) = F_1(x)/2 + F_2(x)/2\n",
    "\n",
    "The density is just the partial derivative of the cdf with respect to each random variable\n",
    "   f_X(x) = f_1(x)/2 + f_2(x)/2\n",
    "\n",
    "If P(pi_1 | X = x) is the conditional probability that an individual would be classified as pi_1 given x\n",
    "we obtain \n",
    "    P(pi_1 | X = x) = P(pi_1)P(X = x | pi_1)/P(X = x)\n",
    "                    = 1/2 * f_1(x) / f_X(x)\n",
    "                    = 1/2 * f_1(x) / f_1(x)/2 + f_2(x)/2 # The joint density is a mixture\n",
    "                    = f_1(x) / f_1(x) + f_2(x)\n",
    "    P(pi_2 | X = x) = f_2(x) / f_1(x) + f_2(x)\n",
    "    \n",
    "A common sense approach to classiyfing an observation would be to check if P(pi_1 | X = x) >= P(pi_2 | X = x).\n",
    "In English and in the context our problem, this would translate to\n",
    "    \"If the probability of an observation being classified as virginica given its measurements is greater than \n",
    "     if it was versicolor, classify it as virginica.\"\n",
    "\n",
    "If you divide on both sides and take the log, this rule would be equivalent to \n",
    "    log(f_1(x)/f_2(x)) >= 0\n",
    "\"\"\""
   ]
  },
  {
   "cell_type": "code",
   "execution_count": null,
   "metadata": {},
   "outputs": [],
   "source": [
    "\"\"\"\n",
    "We can derive this classification rule for multivariate Gaussians.\n",
    "\n",
    "Let pi_1 ~ N(u_1, sigma_1) and pi_2 ~ N(u_2, sigma_2).\n",
    "LDA introduces homoskedasticity by assuming sigma_1 = sigma_2 = sigma.\n",
    "\n",
    "The log ratio of two multivariate Gaussians is\n",
    "    log(f_1(x)/f_2(x)) = -1/2 * (x - u_1).T * inv(sigma) * (x - u_1) + 1/2 * (x - u_2).T * inv(sigma) * (x - u_2)\n",
    "                       = (u_1 - u_2).T * inv(sigma) * (x - 1/2(u_1 + u_2)) # This is known as Fisher's Rule\n",
    "                       \n",
    "Unlike the Bayes Discriminant Approach, Fisher derived this classification rule by creating a line such that\n",
    "if all points were projected on it maximially seperated according to their scaled squared mean difference.\n",
    "\"\"\""
   ]
  },
  {
   "cell_type": "code",
   "execution_count": 45,
   "metadata": {},
   "outputs": [],
   "source": [
    "versicolor_train_X = versicolor_train.iloc[:, 0:4].to_numpy()\n",
    "virginica_train_X = virginica_train.iloc[:, 0:4].to_numpy()\n",
    "versicolor_test_X = versicolor_test.iloc[:, 0:4].to_numpy()\n",
    "virginica_test_X = virginica_test.iloc[:, 0:4].to_numpy()"
   ]
  },
  {
   "cell_type": "code",
   "execution_count": 46,
   "metadata": {},
   "outputs": [],
   "source": [
    "versicolor_train_S = numpy.cov(versicolor_train_X.T)\n",
    "virginica_train_S = numpy.cov(virginica_train_X.T)\n",
    "S_pooled = (versicolor_train_S.shape[0] - 1) / (versicolor_train_S.shape[0] + virginica_train_S.shape[0] - 2) * versicolor_train_S + (virginica_train_S.shape[0] - 1) / (versicolor_train_S.shape[0] + virginica_train_S.shape[0] - 2) * virginica_train_S\n",
    "S_pooled_inv = numpy.linalg.inv(S_pooled)\n",
    "xbar_virginica = virginica_train_X.mean(axis=0)\n",
    "xbar_versicolor = versicolor_train_X.mean(axis=0)"
   ]
  },
  {
   "cell_type": "code",
   "execution_count": 47,
   "metadata": {},
   "outputs": [],
   "source": [
    "def fishersDiscriminantRule(S_pooled_inv: numpy.ndarray, xbar_1: numpy.ndarray, xbar_2: numpy.ndarray, x: numpy.ndarray):\n",
    "    return (xbar_1 - xbar_2).T @ S_pooled_inv @ (x - 1/2 * (xbar_1 + xbar_2)).reshape(-1,1) >= 0"
   ]
  },
  {
   "cell_type": "code",
   "execution_count": 48,
   "metadata": {},
   "outputs": [],
   "source": [
    "apply_function = partial(fishersDiscriminantRule, S_pooled_inv, xbar_virginica, xbar_versicolor)"
   ]
  },
  {
   "cell_type": "code",
   "execution_count": 49,
   "metadata": {},
   "outputs": [],
   "source": [
    "versicolor_classifications = numpy.apply_along_axis(apply_function, 1, versicolor_test_X)\n",
    "virginica_classifications = numpy.apply_along_axis(apply_function, 1, virginica_test_X)"
   ]
  },
  {
   "cell_type": "code",
   "execution_count": 51,
   "metadata": {},
   "outputs": [
    {
     "name": "stdout",
     "output_type": "stream",
     "text": [
      "Versicolor classification rate:  [0.95]\n",
      "Virginica classification rate:  [0.925]\n"
     ]
    }
   ],
   "source": [
    "print(\"Versicolor classification rate: \", sum(versicolor_classifications == False) / versicolor_test_X.shape[0])\n",
    "print(\"Virginica classification rate: \", sum(virginica_classifications == True) / virginica_test_X.shape[0])"
   ]
  }
 ],
 "metadata": {
  "kernelspec": {
   "display_name": "Python 3",
   "language": "python",
   "name": "python3"
  },
  "language_info": {
   "codemirror_mode": {
    "name": "ipython",
    "version": 3
   },
   "file_extension": ".py",
   "mimetype": "text/x-python",
   "name": "python",
   "nbconvert_exporter": "python",
   "pygments_lexer": "ipython3",
   "version": "3.8.5"
  }
 },
 "nbformat": 4,
 "nbformat_minor": 4
}
